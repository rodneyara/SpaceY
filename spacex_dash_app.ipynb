{
 "cells": [
  {
   "cell_type": "code",
   "execution_count": 2,
   "id": "d2882042-0198-4593-a28a-e28f2920c4cd",
   "metadata": {},
   "outputs": [
    {
     "data": {
      "text/html": [
       "\n",
       "        <iframe\n",
       "            width=\"100%\"\n",
       "            height=\"650\"\n",
       "            src=\"http://127.0.0.1:8050/\"\n",
       "            frameborder=\"0\"\n",
       "            allowfullscreen\n",
       "            \n",
       "        ></iframe>\n",
       "        "
      ],
      "text/plain": [
       "<IPython.lib.display.IFrame at 0x7b4b10986570>"
      ]
     },
     "metadata": {},
     "output_type": "display_data"
    }
   ],
   "source": [
    "import pandas as pd\n",
    "import dash\n",
    "import dash_html_components as html\n",
    "import dash_core_components as dcc\n",
    "from dash.dependencies import Input, Output\n",
    "import plotly.express as px\n",
    "\n",
    "# Read the SpaceX launch data into a pandas dataframe\n",
    "spacex_df = pd.read_csv(\"/home/rodneyr/spacex_launch_dash.csv\")\n",
    "max_payload = spacex_df['Payload Mass (kg)'].max()\n",
    "min_payload = spacex_df['Payload Mass (kg)'].min()\n",
    "\n",
    "# Create a Dash application\n",
    "app = dash.Dash(__name__)\n",
    "\n",
    "# Create an app layout\n",
    "app.layout = html.Div(children=[\n",
    "    html.H1('SpaceX Launch Records Dashboard',\n",
    "            style={'textAlign': 'center', 'color': '#503D36', 'font-size': 40}),\n",
    "    # TASK 1: Add a dropdown list to enable Launch Site selection\n",
    "    dcc.Dropdown(id='site-dropdown',\n",
    "                 options=[\n",
    "                     {'label': 'All Sites', 'value': 'ALL'},\n",
    "                     {'label': 'CCAFS LC-40', 'value': 'CCAFS LC-40'},\n",
    "                     {'label': 'CCAFS SLC-40', 'value': 'CCAFS SLC-40'},\n",
    "                     {'label': 'KSC LC-39A', 'value': 'KSC LC-39A'},\n",
    "                     {'label': 'VAFB SLC-4E', 'value': 'VAFB SLC-4E'},\n",
    "                 ],\n",
    "                 value='ALL',\n",
    "                 placeholder='Select a Launch Site here',\n",
    "                 searchable=True\n",
    "                 ),\n",
    "    html.Br(),\n",
    "    # TASK 2: Add a pie chart to show the total successful launches count for all sites\n",
    "    html.Div(dcc.Graph(id='success-pie-chart')),\n",
    "    html.Br(),\n",
    "    html.P(\"Payload range (Kg):\"),\n",
    "    # TASK 3: Add a slider to select payload range\n",
    "    dcc.RangeSlider(id='payload-slider',\n",
    "                    min=0, max=10000, step=1000,\n",
    "                    marks={0: '0', 2500: '2500', 5000: '5000', 7500: '7500', 10000: '10000'},\n",
    "                    value=[min_payload, max_payload]),\n",
    "    html.Div(dcc.Graph(id='success-payload-scatter-chart')),\n",
    "])\n",
    "\n",
    "# TASK 2: Add a callback function for `site-dropdown` as input, `success-pie-chart` as output\n",
    "@app.callback(Output(component_id='success-pie-chart', component_property='figure'),\n",
    "              Input(component_id='site-dropdown', component_property='value'))\n",
    "def get_pie_chart(entered_site):\n",
    "    filtered_df = spacex_df\n",
    "    if entered_site == 'ALL':\n",
    "        fig = px.pie(filtered_df, values='class', \n",
    "                     names='Launch Site', \n",
    "                     title='Total Success Launches by Site')\n",
    "    else:\n",
    "        filtered_df = spacex_df[spacex_df['Launch Site'] == entered_site]\n",
    "        fig = px.pie(filtered_df, \n",
    "                     names='class', \n",
    "                     title=f'Total Success Launches for site {entered_site}')\n",
    "    return fig\n",
    "\n",
    "# TASK 4: Add a callback function for `site-dropdown` and `payload-slider` as inputs, `success-payload-scatter-chart` as output\n",
    "@app.callback(\n",
    "    Output(component_id='success-payload-scatter-chart', component_property='figure'),\n",
    "    [Input(component_id='site-dropdown', component_property='value'),\n",
    "     Input(component_id='payload-slider', component_property='value')]\n",
    ")\n",
    "def get_scatter_chart(entered_site, payload_range):\n",
    "    low, high = payload_range\n",
    "    filtered_df = spacex_df[(spacex_df['Payload Mass (kg)'] >= low) & \n",
    "                            (spacex_df['Payload Mass (kg)'] <= high)]\n",
    "    if entered_site == 'ALL':\n",
    "        fig = px.scatter(filtered_df, x='Payload Mass (kg)', y='class', \n",
    "                         color='Booster Version Category',\n",
    "                         title='Correlation between Payload and Success for all Sites')\n",
    "    else:\n",
    "        filtered_df = filtered_df[filtered_df['Launch Site'] == entered_site]\n",
    "        fig = px.scatter(filtered_df, x='Payload Mass (kg)', y='class', \n",
    "                         color='Booster Version Category',\n",
    "                         title=f'Correlation between Payload and Success for site {entered_site}')\n",
    "    return fig\n",
    "\n",
    "# Run the app\n",
    "if __name__ == '__main__':\n",
    "    app.run_server(debug=True)\n"
   ]
  },
  {
   "cell_type": "code",
   "execution_count": null,
   "id": "2f3f744e-1a03-4881-8570-3e54e467d8ec",
   "metadata": {},
   "outputs": [],
   "source": []
  }
 ],
 "metadata": {
  "kernelspec": {
   "display_name": "Python 3 (ipykernel)",
   "language": "python",
   "name": "python3"
  },
  "language_info": {
   "codemirror_mode": {
    "name": "ipython",
    "version": 3
   },
   "file_extension": ".py",
   "mimetype": "text/x-python",
   "name": "python",
   "nbconvert_exporter": "python",
   "pygments_lexer": "ipython3",
   "version": "3.12.3"
  }
 },
 "nbformat": 4,
 "nbformat_minor": 5
}
